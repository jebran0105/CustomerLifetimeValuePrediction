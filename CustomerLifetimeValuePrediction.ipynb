{
 "cells": [
  {
   "cell_type": "markdown",
   "source": [
    "## Customer Lifetime Value Prediction using an Online Retail Dataset"
   ],
   "metadata": {
    "collapsed": false,
    "pycharm": {
     "name": "#%% md\n"
    }
   }
  },
  {
   "cell_type": "code",
   "execution_count": 64,
   "outputs": [],
   "source": [
    "import lifetimes\n",
    "import pandas as pd\n",
    "import numpy as np\n",
    "import datetime as dt\n",
    "import matplotlib.pyplot as plt\n",
    "import seaborn as sns"
   ],
   "metadata": {
    "collapsed": false,
    "pycharm": {
     "name": "#%%\n"
    }
   }
  },
  {
   "cell_type": "code",
   "execution_count": 65,
   "outputs": [
    {
     "data": {
      "text/plain": "  InvoiceNo StockCode                          Description  Quantity  \\\n0    536365    85123A   WHITE HANGING HEART T-LIGHT HOLDER         6   \n1    536365     71053                  WHITE METAL LANTERN         6   \n2    536365    84406B       CREAM CUPID HEARTS COAT HANGER         8   \n3    536365    84029G  KNITTED UNION FLAG HOT WATER BOTTLE         6   \n4    536365    84029E       RED WOOLLY HOTTIE WHITE HEART.         6   \n\n           InvoiceDate  UnitPrice  CustomerID         Country  \n0  2010-12-01 08:26:00       2.55     17850.0  United Kingdom  \n1  2010-12-01 08:26:00       3.39     17850.0  United Kingdom  \n2  2010-12-01 08:26:00       2.75     17850.0  United Kingdom  \n3  2010-12-01 08:26:00       3.39     17850.0  United Kingdom  \n4  2010-12-01 08:26:00       3.39     17850.0  United Kingdom  ",
      "text/html": "<div>\n<style scoped>\n    .dataframe tbody tr th:only-of-type {\n        vertical-align: middle;\n    }\n\n    .dataframe tbody tr th {\n        vertical-align: top;\n    }\n\n    .dataframe thead th {\n        text-align: right;\n    }\n</style>\n<table border=\"1\" class=\"dataframe\">\n  <thead>\n    <tr style=\"text-align: right;\">\n      <th></th>\n      <th>InvoiceNo</th>\n      <th>StockCode</th>\n      <th>Description</th>\n      <th>Quantity</th>\n      <th>InvoiceDate</th>\n      <th>UnitPrice</th>\n      <th>CustomerID</th>\n      <th>Country</th>\n    </tr>\n  </thead>\n  <tbody>\n    <tr>\n      <th>0</th>\n      <td>536365</td>\n      <td>85123A</td>\n      <td>WHITE HANGING HEART T-LIGHT HOLDER</td>\n      <td>6</td>\n      <td>2010-12-01 08:26:00</td>\n      <td>2.55</td>\n      <td>17850.0</td>\n      <td>United Kingdom</td>\n    </tr>\n    <tr>\n      <th>1</th>\n      <td>536365</td>\n      <td>71053</td>\n      <td>WHITE METAL LANTERN</td>\n      <td>6</td>\n      <td>2010-12-01 08:26:00</td>\n      <td>3.39</td>\n      <td>17850.0</td>\n      <td>United Kingdom</td>\n    </tr>\n    <tr>\n      <th>2</th>\n      <td>536365</td>\n      <td>84406B</td>\n      <td>CREAM CUPID HEARTS COAT HANGER</td>\n      <td>8</td>\n      <td>2010-12-01 08:26:00</td>\n      <td>2.75</td>\n      <td>17850.0</td>\n      <td>United Kingdom</td>\n    </tr>\n    <tr>\n      <th>3</th>\n      <td>536365</td>\n      <td>84029G</td>\n      <td>KNITTED UNION FLAG HOT WATER BOTTLE</td>\n      <td>6</td>\n      <td>2010-12-01 08:26:00</td>\n      <td>3.39</td>\n      <td>17850.0</td>\n      <td>United Kingdom</td>\n    </tr>\n    <tr>\n      <th>4</th>\n      <td>536365</td>\n      <td>84029E</td>\n      <td>RED WOOLLY HOTTIE WHITE HEART.</td>\n      <td>6</td>\n      <td>2010-12-01 08:26:00</td>\n      <td>3.39</td>\n      <td>17850.0</td>\n      <td>United Kingdom</td>\n    </tr>\n  </tbody>\n</table>\n</div>"
     },
     "execution_count": 65,
     "metadata": {},
     "output_type": "execute_result"
    }
   ],
   "source": [
    "df = pd.read_csv('/Users/jebranirshad/Desktop/Online_Retail.csv')\n",
    "df.head()"
   ],
   "metadata": {
    "collapsed": false,
    "pycharm": {
     "name": "#%%\n"
    }
   }
  },
  {
   "cell_type": "code",
   "execution_count": 66,
   "outputs": [
    {
     "data": {
      "text/plain": "            Quantity      UnitPrice     CustomerID\ncount  495478.000000  495478.000000  361878.000000\nmean        8.605486       4.532422   15547.871368\nstd       227.588756      99.315438    1594.402590\nmin    -80995.000000  -11062.060000   12346.000000\n25%         1.000000       1.250000   14194.000000\n50%         3.000000       2.100000   15514.000000\n75%        10.000000       4.130000   16931.000000\nmax     80995.000000   38970.000000   18287.000000",
      "text/html": "<div>\n<style scoped>\n    .dataframe tbody tr th:only-of-type {\n        vertical-align: middle;\n    }\n\n    .dataframe tbody tr th {\n        vertical-align: top;\n    }\n\n    .dataframe thead th {\n        text-align: right;\n    }\n</style>\n<table border=\"1\" class=\"dataframe\">\n  <thead>\n    <tr style=\"text-align: right;\">\n      <th></th>\n      <th>Quantity</th>\n      <th>UnitPrice</th>\n      <th>CustomerID</th>\n    </tr>\n  </thead>\n  <tbody>\n    <tr>\n      <th>count</th>\n      <td>495478.000000</td>\n      <td>495478.000000</td>\n      <td>361878.000000</td>\n    </tr>\n    <tr>\n      <th>mean</th>\n      <td>8.605486</td>\n      <td>4.532422</td>\n      <td>15547.871368</td>\n    </tr>\n    <tr>\n      <th>std</th>\n      <td>227.588756</td>\n      <td>99.315438</td>\n      <td>1594.402590</td>\n    </tr>\n    <tr>\n      <th>min</th>\n      <td>-80995.000000</td>\n      <td>-11062.060000</td>\n      <td>12346.000000</td>\n    </tr>\n    <tr>\n      <th>25%</th>\n      <td>1.000000</td>\n      <td>1.250000</td>\n      <td>14194.000000</td>\n    </tr>\n    <tr>\n      <th>50%</th>\n      <td>3.000000</td>\n      <td>2.100000</td>\n      <td>15514.000000</td>\n    </tr>\n    <tr>\n      <th>75%</th>\n      <td>10.000000</td>\n      <td>4.130000</td>\n      <td>16931.000000</td>\n    </tr>\n    <tr>\n      <th>max</th>\n      <td>80995.000000</td>\n      <td>38970.000000</td>\n      <td>18287.000000</td>\n    </tr>\n  </tbody>\n</table>\n</div>"
     },
     "execution_count": 66,
     "metadata": {},
     "output_type": "execute_result"
    }
   ],
   "source": [
    "df.describe()"
   ],
   "metadata": {
    "collapsed": false,
    "pycharm": {
     "name": "#%%\n"
    }
   }
  },
  {
   "cell_type": "markdown",
   "source": [
    "Data Preprocessing"
   ],
   "metadata": {
    "collapsed": false,
    "pycharm": {
     "name": "#%% md\n"
    }
   }
  },
  {
   "cell_type": "code",
   "execution_count": 67,
   "outputs": [],
   "source": [
    "# Excluding orders with values that are less than or equal to 0\n",
    "df = df[df['Quantity'] > 0]\n",
    "\n",
    "# Excluding orders whose unit price is less than or equal to 0\n",
    "df = df[df['UnitPrice'] > 0]\n",
    "\n",
    "# 'C' indicates returned orders. We will exclude these orders\n",
    "df = df[~df['InvoiceNo'].str.contains(\"C\",na=False)]"
   ],
   "metadata": {
    "collapsed": false,
    "pycharm": {
     "name": "#%%\n"
    }
   }
  },
  {
   "cell_type": "code",
   "execution_count": 68,
   "outputs": [
    {
     "data": {
      "text/plain": "InvoiceNo           0\nStockCode           0\nDescription         0\nQuantity            0\nInvoiceDate         0\nUnitPrice           0\nCustomerID     130802\nCountry             0\ndtype: int64"
     },
     "execution_count": 68,
     "metadata": {},
     "output_type": "execute_result"
    }
   ],
   "source": [
    "df.isnull().sum()"
   ],
   "metadata": {
    "collapsed": false,
    "pycharm": {
     "name": "#%%\n"
    }
   }
  },
  {
   "cell_type": "code",
   "execution_count": 69,
   "outputs": [],
   "source": [
    "df.dropna(inplace=True)"
   ],
   "metadata": {
    "collapsed": false,
    "pycharm": {
     "name": "#%%\n"
    }
   }
  },
  {
   "cell_type": "code",
   "execution_count": 70,
   "outputs": [
    {
     "data": {
      "text/plain": "InvoiceNo      0\nStockCode      0\nDescription    0\nQuantity       0\nInvoiceDate    0\nUnitPrice      0\nCustomerID     0\nCountry        0\ndtype: int64"
     },
     "execution_count": 70,
     "metadata": {},
     "output_type": "execute_result"
    }
   ],
   "source": [
    "df.isnull().sum()"
   ],
   "metadata": {
    "collapsed": false,
    "pycharm": {
     "name": "#%%\n"
    }
   }
  },
  {
   "cell_type": "code",
   "execution_count": 71,
   "outputs": [
    {
     "data": {
      "text/plain": "<AxesSubplot:xlabel='Quantity', ylabel='Density'>"
     },
     "execution_count": 71,
     "metadata": {},
     "output_type": "execute_result"
    },
    {
     "data": {
      "text/plain": "<Figure size 432x288 with 1 Axes>",
      "image/png": "[encoded data removed]"
     },
     "metadata": {},
     "output_type": "display_data"
    }
   ],
   "source": [
    "sns.distplot(df['Quantity'])"
   ],
   "metadata": {
    "collapsed": false,
    "pycharm": {
     "name": "#%%\n"
    }
   }
  },
  {
   "cell_type": "code",
   "execution_count": 72,
   "outputs": [
    {
     "data": {
      "text/plain": "<AxesSubplot:xlabel='UnitPrice', ylabel='Density'>"
     },
     "execution_count": 72,
     "metadata": {},
     "output_type": "execute_result"
    },
    {
     "data": {
      "text/plain": "<Figure size 432x288 with 1 Axes>",
      "image/png": "[encoded data removed]"
     },
     "metadata": {},
     "output_type": "display_data"
    }
   ],
   "source": [
    "sns.distplot(df['UnitPrice'])"
   ],
   "metadata": {
    "collapsed": false,
    "pycharm": {
     "name": "#%%\n"
    }
   }
  },
  {
   "cell_type": "markdown",
   "source": [
    "Dealing with outliers"
   ],
   "metadata": {
    "collapsed": false,
    "pycharm": {
     "name": "#%% md\n"
    }
   }
  },
  {
   "cell_type": "code",
   "execution_count": 73,
   "outputs": [],
   "source": [
    "def set_boundaries(df, variable):\n",
    "    q1 = 0.05\n",
    "    q2 = 0.95\n",
    "    lower_boundary = df[variable].quantile(q1)\n",
    "    upper_boundary = df[variable].quantile(q2)\n",
    "\n",
    "    return lower_boundary, upper_boundary\n",
    "\n",
    "def remove_outliers(df, variable):\n",
    "    lower_boundary, upper_boundary =  set_boundaries(df,variable)\n",
    "    df[variable] = np.where(df[variable] > upper_boundary, upper_boundary, np.where(df[variable] < lower_boundary, lower_boundary, df[variable]))"
   ],
   "metadata": {
    "collapsed": false,
    "pycharm": {
     "name": "#%%\n"
    }
   }
  },
  {
   "cell_type": "code",
   "execution_count": 74,
   "outputs": [],
   "source": [
    "remove_outliers(df,'UnitPrice')\n",
    "remove_outliers(df,'Quantity')"
   ],
   "metadata": {
    "collapsed": false,
    "pycharm": {
     "name": "#%%\n"
    }
   }
  },
  {
   "cell_type": "code",
   "execution_count": 75,
   "outputs": [
    {
     "data": {
      "text/plain": "<AxesSubplot:xlabel='Quantity', ylabel='Density'>"
     },
     "execution_count": 75,
     "metadata": {},
     "output_type": "execute_result"
    },
    {
     "data": {
      "text/plain": "<Figure size 432x288 with 1 Axes>",
      "image/png": "[encoded data removed]"
     },
     "metadata": {},
     "output_type": "display_data"
    }
   ],
   "source": [
    "sns.distplot(df['Quantity'])"
   ],
   "metadata": {
    "collapsed": false,
    "pycharm": {
     "name": "#%%\n"
    }
   }
  },
  {
   "cell_type": "code",
   "execution_count": 76,
   "outputs": [
    {
     "data": {
      "text/plain": "<AxesSubplot:xlabel='UnitPrice', ylabel='Density'>"
     },
     "execution_count": 76,
     "metadata": {},
     "output_type": "execute_result"
    },
    {
     "data": {
      "text/plain": "<Figure size 432x288 with 1 Axes>",
      "image/png": "[encoded data removed]"
     },
     "metadata": {},
     "output_type": "display_data"
    }
   ],
   "source": [
    "sns.distplot(df['UnitPrice'])"
   ],
   "metadata": {
    "collapsed": false,
    "pycharm": {
     "name": "#%%\n"
    }
   }
  },
  {
   "cell_type": "code",
   "execution_count": 77,
   "outputs": [
    {
     "data": {
      "text/plain": "            Quantity      UnitPrice     CustomerID\ncount  354321.000000  354321.000000  354321.000000\nmean        8.348212       2.651029   15552.486392\nstd         9.245021       2.248187    1594.527150\nmin         1.000000       0.420000   12346.000000\n25%         2.000000       1.250000   14194.000000\n50%         4.000000       1.950000   15522.000000\n75%        12.000000       3.750000   16931.000000\nmax        36.000000       8.500000   18287.000000",
      "text/html": "<div>\n<style scoped>\n    .dataframe tbody tr th:only-of-type {\n        vertical-align: middle;\n    }\n\n    .dataframe tbody tr th {\n        vertical-align: top;\n    }\n\n    .dataframe thead th {\n        text-align: right;\n    }\n</style>\n<table border=\"1\" class=\"dataframe\">\n  <thead>\n    <tr style=\"text-align: right;\">\n      <th></th>\n      <th>Quantity</th>\n      <th>UnitPrice</th>\n      <th>CustomerID</th>\n    </tr>\n  </thead>\n  <tbody>\n    <tr>\n      <th>count</th>\n      <td>354321.000000</td>\n      <td>354321.000000</td>\n      <td>354321.000000</td>\n    </tr>\n    <tr>\n      <th>mean</th>\n      <td>8.348212</td>\n      <td>2.651029</td>\n      <td>15552.486392</td>\n    </tr>\n    <tr>\n      <th>std</th>\n      <td>9.245021</td>\n      <td>2.248187</td>\n      <td>1594.527150</td>\n    </tr>\n    <tr>\n      <th>min</th>\n      <td>1.000000</td>\n      <td>0.420000</td>\n      <td>12346.000000</td>\n    </tr>\n    <tr>\n      <th>25%</th>\n      <td>2.000000</td>\n      <td>1.250000</td>\n      <td>14194.000000</td>\n    </tr>\n    <tr>\n      <th>50%</th>\n      <td>4.000000</td>\n      <td>1.950000</td>\n      <td>15522.000000</td>\n    </tr>\n    <tr>\n      <th>75%</th>\n      <td>12.000000</td>\n      <td>3.750000</td>\n      <td>16931.000000</td>\n    </tr>\n    <tr>\n      <th>max</th>\n      <td>36.000000</td>\n      <td>8.500000</td>\n      <td>18287.000000</td>\n    </tr>\n  </tbody>\n</table>\n</div>"
     },
     "execution_count": 77,
     "metadata": {},
     "output_type": "execute_result"
    }
   ],
   "source": [
    "df.describe()"
   ],
   "metadata": {
    "collapsed": false,
    "pycharm": {
     "name": "#%%\n"
    }
   }
  },
  {
   "cell_type": "markdown",
   "source": [
    "We will now create an RFM Dataset along with T(Time since customer's first purchase) and Monetary Value"
   ],
   "metadata": {
    "collapsed": false,
    "pycharm": {
     "name": "#%% md\n"
    }
   }
  },
  {
   "cell_type": "code",
   "execution_count": 78,
   "outputs": [],
   "source": [
    "# First we create a total price column\n",
    "df['Total Price'] = df['UnitPrice'] * df['Quantity']"
   ],
   "metadata": {
    "collapsed": false,
    "pycharm": {
     "name": "#%%\n"
    }
   }
  },
  {
   "cell_type": "code",
   "execution_count": 79,
   "outputs": [
    {
     "data": {
      "text/plain": "            frequency  recency      T  monetary_value\nCustomerID                                           \n12346.0           0.0      0.0  325.0        0.000000\n12747.0          10.0    367.0  369.0      375.725000\n12748.0         112.0    373.0  373.0      257.314911\n12749.0           3.0    210.0  213.0      999.106667\n12820.0           3.0    323.0  326.0      256.573333\n...               ...      ...    ...             ...\n18280.0           0.0      0.0  277.0        0.000000\n18281.0           0.0      0.0  180.0        0.000000\n18282.0           1.0    119.0  126.0       69.340000\n18283.0          13.0    334.0  337.0      152.436154\n18287.0           2.0    159.0  201.0      493.940000\n\n[3920 rows x 4 columns]",
      "text/html": "<div>\n<style scoped>\n    .dataframe tbody tr th:only-of-type {\n        vertical-align: middle;\n    }\n\n    .dataframe tbody tr th {\n        vertical-align: top;\n    }\n\n    .dataframe thead th {\n        text-align: right;\n    }\n</style>\n<table border=\"1\" class=\"dataframe\">\n  <thead>\n    <tr style=\"text-align: right;\">\n      <th></th>\n      <th>frequency</th>\n      <th>recency</th>\n      <th>T</th>\n      <th>monetary_value</th>\n    </tr>\n    <tr>\n      <th>CustomerID</th>\n      <th></th>\n      <th></th>\n      <th></th>\n      <th></th>\n    </tr>\n  </thead>\n  <tbody>\n    <tr>\n      <th>12346.0</th>\n      <td>0.0</td>\n      <td>0.0</td>\n      <td>325.0</td>\n      <td>0.000000</td>\n    </tr>\n    <tr>\n      <th>12747.0</th>\n      <td>10.0</td>\n      <td>367.0</td>\n      <td>369.0</td>\n      <td>375.725000</td>\n    </tr>\n    <tr>\n      <th>12748.0</th>\n      <td>112.0</td>\n      <td>373.0</td>\n      <td>373.0</td>\n      <td>257.314911</td>\n    </tr>\n    <tr>\n      <th>12749.0</th>\n      <td>3.0</td>\n      <td>210.0</td>\n      <td>213.0</td>\n      <td>999.106667</td>\n    </tr>\n    <tr>\n      <th>12820.0</th>\n      <td>3.0</td>\n      <td>323.0</td>\n      <td>326.0</td>\n      <td>256.573333</td>\n    </tr>\n    <tr>\n      <th>...</th>\n      <td>...</td>\n      <td>...</td>\n      <td>...</td>\n      <td>...</td>\n    </tr>\n    <tr>\n      <th>18280.0</th>\n      <td>0.0</td>\n      <td>0.0</td>\n      <td>277.0</td>\n      <td>0.000000</td>\n    </tr>\n    <tr>\n      <th>18281.0</th>\n      <td>0.0</td>\n      <td>0.0</td>\n      <td>180.0</td>\n      <td>0.000000</td>\n    </tr>\n    <tr>\n      <th>18282.0</th>\n      <td>1.0</td>\n      <td>119.0</td>\n      <td>126.0</td>\n      <td>69.340000</td>\n    </tr>\n    <tr>\n      <th>18283.0</th>\n      <td>13.0</td>\n      <td>334.0</td>\n      <td>337.0</td>\n      <td>152.436154</td>\n    </tr>\n    <tr>\n      <th>18287.0</th>\n      <td>2.0</td>\n      <td>159.0</td>\n      <td>201.0</td>\n      <td>493.940000</td>\n    </tr>\n  </tbody>\n</table>\n<p>3920 rows × 4 columns</p>\n</div>"
     },
     "execution_count": 79,
     "metadata": {},
     "output_type": "execute_result"
    }
   ],
   "source": [
    "# We will create our RFM Dataset with the lifetimes package\n",
    "\n",
    "rfm_dataset = lifetimes.utils.summary_data_from_transaction_data(df,'CustomerID','InvoiceDate','Total Price',observation_period_end='2011-12-09')\n",
    "rfm_dataset"
   ],
   "metadata": {
    "collapsed": false,
    "pycharm": {
     "name": "#%%\n"
    }
   }
  },
  {
   "cell_type": "code",
   "execution_count": 80,
   "outputs": [
    {
     "data": {
      "text/plain": "            frequency  recency      T  monetary_value\nCustomerID                                           \n12747.0          10.0    367.0  369.0      375.725000\n12748.0         112.0    373.0  373.0      257.314911\n12749.0           3.0    210.0  213.0      999.106667\n12820.0           3.0    323.0  326.0      256.573333\n12823.0           4.0    222.0  296.0      252.450000\n...               ...      ...    ...             ...\n18263.0           2.0    227.0  252.0      467.580000\n18272.0           5.0    244.0  246.0      485.688000\n18273.0           2.0    255.0  257.0       71.400000\n18283.0          13.0    334.0  337.0      152.436154\n18287.0           2.0    159.0  201.0      493.940000\n\n[1738 rows x 4 columns]",
      "text/html": "<div>\n<style scoped>\n    .dataframe tbody tr th:only-of-type {\n        vertical-align: middle;\n    }\n\n    .dataframe tbody tr th {\n        vertical-align: top;\n    }\n\n    .dataframe thead th {\n        text-align: right;\n    }\n</style>\n<table border=\"1\" class=\"dataframe\">\n  <thead>\n    <tr style=\"text-align: right;\">\n      <th></th>\n      <th>frequency</th>\n      <th>recency</th>\n      <th>T</th>\n      <th>monetary_value</th>\n    </tr>\n    <tr>\n      <th>CustomerID</th>\n      <th></th>\n      <th></th>\n      <th></th>\n      <th></th>\n    </tr>\n  </thead>\n  <tbody>\n    <tr>\n      <th>12747.0</th>\n      <td>10.0</td>\n      <td>367.0</td>\n      <td>369.0</td>\n      <td>375.725000</td>\n    </tr>\n    <tr>\n      <th>12748.0</th>\n      <td>112.0</td>\n      <td>373.0</td>\n      <td>373.0</td>\n      <td>257.314911</td>\n    </tr>\n    <tr>\n      <th>12749.0</th>\n      <td>3.0</td>\n      <td>210.0</td>\n      <td>213.0</td>\n      <td>999.106667</td>\n    </tr>\n    <tr>\n      <th>12820.0</th>\n      <td>3.0</td>\n      <td>323.0</td>\n      <td>326.0</td>\n      <td>256.573333</td>\n    </tr>\n    <tr>\n      <th>12823.0</th>\n      <td>4.0</td>\n      <td>222.0</td>\n      <td>296.0</td>\n      <td>252.450000</td>\n    </tr>\n    <tr>\n      <th>...</th>\n      <td>...</td>\n      <td>...</td>\n      <td>...</td>\n      <td>...</td>\n    </tr>\n    <tr>\n      <th>18263.0</th>\n      <td>2.0</td>\n      <td>227.0</td>\n      <td>252.0</td>\n      <td>467.580000</td>\n    </tr>\n    <tr>\n      <th>18272.0</th>\n      <td>5.0</td>\n      <td>244.0</td>\n      <td>246.0</td>\n      <td>485.688000</td>\n    </tr>\n    <tr>\n      <th>18273.0</th>\n      <td>2.0</td>\n      <td>255.0</td>\n      <td>257.0</td>\n      <td>71.400000</td>\n    </tr>\n    <tr>\n      <th>18283.0</th>\n      <td>13.0</td>\n      <td>334.0</td>\n      <td>337.0</td>\n      <td>152.436154</td>\n    </tr>\n    <tr>\n      <th>18287.0</th>\n      <td>2.0</td>\n      <td>159.0</td>\n      <td>201.0</td>\n      <td>493.940000</td>\n    </tr>\n  </tbody>\n</table>\n<p>1738 rows × 4 columns</p>\n</div>"
     },
     "execution_count": 80,
     "metadata": {},
     "output_type": "execute_result"
    }
   ],
   "source": [
    "# We require customers who have shopped more than once\n",
    "\n",
    "rfm_dataset = rfm_dataset[rfm_dataset['frequency'] > 1]\n",
    "rfm_dataset"
   ],
   "metadata": {
    "collapsed": false,
    "pycharm": {
     "name": "#%%\n"
    }
   }
  },
  {
   "cell_type": "code",
   "execution_count": 81,
   "outputs": [
    {
     "data": {
      "text/plain": "<lifetimes.BetaGeoFitter: fitted with 1738 subjects, a: 0.00, alpha: 112.07, b: 0.00, r: 2.38>"
     },
     "execution_count": 81,
     "metadata": {},
     "output_type": "execute_result"
    }
   ],
   "source": [
    "# We will now import BetaGeoFilter to implement the BG/NBD model to our data\n",
    "from lifetimes import BetaGeoFitter\n",
    "\n",
    "bgf = BetaGeoFitter(penalizer_coef=0.001)\n",
    "bgf.fit(rfm_dataset['frequency'], rfm_dataset['recency'], rfm_dataset['T'])"
   ],
   "metadata": {
    "collapsed": false,
    "pycharm": {
     "name": "#%%\n"
    }
   }
  },
  {
   "cell_type": "code",
   "execution_count": 82,
   "outputs": [
    {
     "data": {
      "text/plain": "            frequency  recency      T  monetary_value  expected_purc_6_months\nCustomerID                                                                   \n12748.0         112.0    373.0  373.0      257.314911               42.444401\n17841.0         111.0    372.0  373.0      349.079640               42.073324\n15311.0          89.0    373.0  373.0      421.881573               33.909635\n14606.0          88.0    372.0  373.0      125.302955               33.538559\n12971.0          70.0    369.0  372.0      132.197571               26.914663",
      "text/html": "<div>\n<style scoped>\n    .dataframe tbody tr th:only-of-type {\n        vertical-align: middle;\n    }\n\n    .dataframe tbody tr th {\n        vertical-align: top;\n    }\n\n    .dataframe thead th {\n        text-align: right;\n    }\n</style>\n<table border=\"1\" class=\"dataframe\">\n  <thead>\n    <tr style=\"text-align: right;\">\n      <th></th>\n      <th>frequency</th>\n      <th>recency</th>\n      <th>T</th>\n      <th>monetary_value</th>\n      <th>expected_purc_6_months</th>\n    </tr>\n    <tr>\n      <th>CustomerID</th>\n      <th></th>\n      <th></th>\n      <th></th>\n      <th></th>\n      <th></th>\n    </tr>\n  </thead>\n  <tbody>\n    <tr>\n      <th>12748.0</th>\n      <td>112.0</td>\n      <td>373.0</td>\n      <td>373.0</td>\n      <td>257.314911</td>\n      <td>42.444401</td>\n    </tr>\n    <tr>\n      <th>17841.0</th>\n      <td>111.0</td>\n      <td>372.0</td>\n      <td>373.0</td>\n      <td>349.079640</td>\n      <td>42.073324</td>\n    </tr>\n    <tr>\n      <th>15311.0</th>\n      <td>89.0</td>\n      <td>373.0</td>\n      <td>373.0</td>\n      <td>421.881573</td>\n      <td>33.909635</td>\n    </tr>\n    <tr>\n      <th>14606.0</th>\n      <td>88.0</td>\n      <td>372.0</td>\n      <td>373.0</td>\n      <td>125.302955</td>\n      <td>33.538559</td>\n    </tr>\n    <tr>\n      <th>12971.0</th>\n      <td>70.0</td>\n      <td>369.0</td>\n      <td>372.0</td>\n      <td>132.197571</td>\n      <td>26.914663</td>\n    </tr>\n  </tbody>\n</table>\n</div>"
     },
     "execution_count": 82,
     "metadata": {},
     "output_type": "execute_result"
    }
   ],
   "source": [
    "# Now we will predict expected number of purchases for 6 months\n",
    "t = 180\n",
    "rfm_dataset['expected_purc_6_months'] = bgf.conditional_expected_number_of_purchases_up_to_time(t, rfm_dataset['frequency'], rfm_dataset['recency'], rfm_dataset['T'])\n",
    "rfm_dataset.sort_values(by='expected_purc_6_months',ascending=False).head(5)"
   ],
   "metadata": {
    "collapsed": false,
    "pycharm": {
     "name": "#%%\n"
    }
   }
  },
  {
   "cell_type": "markdown",
   "source": [
    "Now to predict the CLV we will use the Gamma-Gamma Model"
   ],
   "metadata": {
    "collapsed": false,
    "pycharm": {
     "name": "#%% md\n"
    }
   }
  },
  {
   "cell_type": "code",
   "execution_count": 83,
   "outputs": [
    {
     "data": {
      "text/plain": "                frequency  monetary_value\nfrequency        1.000000        0.082631\nmonetary_value   0.082631        1.000000",
      "text/html": "<div>\n<style scoped>\n    .dataframe tbody tr th:only-of-type {\n        vertical-align: middle;\n    }\n\n    .dataframe tbody tr th {\n        vertical-align: top;\n    }\n\n    .dataframe thead th {\n        text-align: right;\n    }\n</style>\n<table border=\"1\" class=\"dataframe\">\n  <thead>\n    <tr style=\"text-align: right;\">\n      <th></th>\n      <th>frequency</th>\n      <th>monetary_value</th>\n    </tr>\n  </thead>\n  <tbody>\n    <tr>\n      <th>frequency</th>\n      <td>1.000000</td>\n      <td>0.082631</td>\n    </tr>\n    <tr>\n      <th>monetary_value</th>\n      <td>0.082631</td>\n      <td>1.000000</td>\n    </tr>\n  </tbody>\n</table>\n</div>"
     },
     "execution_count": 83,
     "metadata": {},
     "output_type": "execute_result"
    }
   ],
   "source": [
    "# To use Gamma Gamma, we must first ensure there is LESS/WEAK correlation between Frequency and Monetary Value\n",
    "\n",
    "rfm_dataset[['frequency','monetary_value']].corr()"
   ],
   "metadata": {
    "collapsed": false,
    "pycharm": {
     "name": "#%%\n"
    }
   }
  },
  {
   "cell_type": "code",
   "execution_count": 84,
   "outputs": [
    {
     "data": {
      "text/plain": "<lifetimes.GammaGammaFitter: fitted with 1738 subjects, p: 3.80, q: 0.35, v: 3.73>"
     },
     "execution_count": 84,
     "metadata": {},
     "output_type": "execute_result"
    }
   ],
   "source": [
    "# Since there is less correlation we will proceed to build the Gamma Gamma Model\n",
    "from lifetimes import GammaGammaFitter\n",
    "\n",
    "ggf = GammaGammaFitter(penalizer_coef=0.01)\n",
    "ggf.fit(rfm_dataset[\"frequency\"],\n",
    "        rfm_dataset[\"monetary_value\"])"
   ],
   "metadata": {
    "collapsed": false,
    "pycharm": {
     "name": "#%%\n"
    }
   }
  },
  {
   "cell_type": "code",
   "execution_count": 86,
   "outputs": [
    {
     "data": {
      "text/plain": "            frequency  recency      T  monetary_value  expected_purc_6_months  \\\nCustomerID                                                                      \n14096.0          16.0     97.0  101.0     3012.454375               15.528400   \n18102.0          25.0    367.0  367.0     2112.843200               10.287978   \n13089.0          65.0    367.0  369.0      784.818308               25.211693   \n17511.0          27.0    371.0  373.0     1798.113704               10.902877   \n14088.0          11.0    312.0  322.0     3352.988182                5.549070   \n\n            6_months_clv  \nCustomerID                \n14096.0     45677.610915  \n18102.0     21142.592872  \n13089.0     19164.137958  \n17511.0     19058.975876  \n14088.0     18258.492844  ",
      "text/html": "<div>\n<style scoped>\n    .dataframe tbody tr th:only-of-type {\n        vertical-align: middle;\n    }\n\n    .dataframe tbody tr th {\n        vertical-align: top;\n    }\n\n    .dataframe thead th {\n        text-align: right;\n    }\n</style>\n<table border=\"1\" class=\"dataframe\">\n  <thead>\n    <tr style=\"text-align: right;\">\n      <th></th>\n      <th>frequency</th>\n      <th>recency</th>\n      <th>T</th>\n      <th>monetary_value</th>\n      <th>expected_purc_6_months</th>\n      <th>6_months_clv</th>\n    </tr>\n    <tr>\n      <th>CustomerID</th>\n      <th></th>\n      <th></th>\n      <th></th>\n      <th></th>\n      <th></th>\n      <th></th>\n    </tr>\n  </thead>\n  <tbody>\n    <tr>\n      <th>14096.0</th>\n      <td>16.0</td>\n      <td>97.0</td>\n      <td>101.0</td>\n      <td>3012.454375</td>\n      <td>15.528400</td>\n      <td>45677.610915</td>\n    </tr>\n    <tr>\n      <th>18102.0</th>\n      <td>25.0</td>\n      <td>367.0</td>\n      <td>367.0</td>\n      <td>2112.843200</td>\n      <td>10.287978</td>\n      <td>21142.592872</td>\n    </tr>\n    <tr>\n      <th>13089.0</th>\n      <td>65.0</td>\n      <td>367.0</td>\n      <td>369.0</td>\n      <td>784.818308</td>\n      <td>25.211693</td>\n      <td>19164.137958</td>\n    </tr>\n    <tr>\n      <th>17511.0</th>\n      <td>27.0</td>\n      <td>371.0</td>\n      <td>373.0</td>\n      <td>1798.113704</td>\n      <td>10.902877</td>\n      <td>19058.975876</td>\n    </tr>\n    <tr>\n      <th>14088.0</th>\n      <td>11.0</td>\n      <td>312.0</td>\n      <td>322.0</td>\n      <td>3352.988182</td>\n      <td>5.549070</td>\n      <td>18258.492844</td>\n    </tr>\n  </tbody>\n</table>\n</div>"
     },
     "execution_count": 86,
     "metadata": {},
     "output_type": "execute_result"
    }
   ],
   "source": [
    "# We will now\n",
    "\n",
    "rfm_dataset['6_months_clv']=ggf.customer_lifetime_value(bgf,\n",
    "                                                 rfm_dataset[\"frequency\"],\n",
    "                                                 rfm_dataset[\"recency\"],\n",
    "                                                 rfm_dataset[\"T\"],\n",
    "                                                 rfm_dataset[\"monetary_value\"],\n",
    "                                                 time=6,\n",
    "                                                 freq='D',\n",
    "                                                 discount_rate=0.01)\n",
    "rfm_dataset.sort_values('6_months_clv',ascending=False).head()"
   ],
   "metadata": {
    "collapsed": false,
    "pycharm": {
     "name": "#%%\n"
    }
   }
  },
  {
   "cell_type": "code",
   "execution_count": 90,
   "outputs": [
    {
     "data": {
      "text/plain": "            frequency  recency      T  monetary_value  expected_purc_6_months  \\\nCustomerID                                                                      \n12747.0          10.0    367.0  369.0      375.725000                4.632775   \n12748.0         112.0    373.0  373.0      257.314911               42.444401   \n12749.0           3.0    210.0  213.0      999.106667                2.979965   \n12820.0           3.0    323.0  326.0      256.573333                2.211293   \n12823.0           4.0    222.0  296.0      252.450000                2.814953   \n...               ...      ...    ...             ...                     ...   \n18263.0           2.0    227.0  252.0      467.580000                2.166345   \n18272.0           5.0    244.0  246.0      485.688000                3.710709   \n18273.0           2.0    255.0  257.0       71.400000                2.136996   \n18283.0          13.0    334.0  337.0      152.436154                6.165368   \n18287.0           2.0    159.0  201.0      493.940000                2.519243   \n\n            6_months_clv         Segment  \nCustomerID                                \n12747.0      1712.381633       Champions  \n12748.0     10566.853327       Champions  \n12749.0      3054.158128       Champions  \n12820.0       584.100407  Need Attention  \n12823.0       719.842220  Need Attention  \n...                  ...             ...  \n18263.0      1074.547597  LoyalCustomers  \n18272.0      1805.476473       Champions  \n18273.0       165.434190     Hibernating  \n18283.0       921.670085  Need Attention  \n18287.0      1319.757760  LoyalCustomers  \n\n[1738 rows x 7 columns]",
      "text/html": "<div>\n<style scoped>\n    .dataframe tbody tr th:only-of-type {\n        vertical-align: middle;\n    }\n\n    .dataframe tbody tr th {\n        vertical-align: top;\n    }\n\n    .dataframe thead th {\n        text-align: right;\n    }\n</style>\n<table border=\"1\" class=\"dataframe\">\n  <thead>\n    <tr style=\"text-align: right;\">\n      <th></th>\n      <th>frequency</th>\n      <th>recency</th>\n      <th>T</th>\n      <th>monetary_value</th>\n      <th>expected_purc_6_months</th>\n      <th>6_months_clv</th>\n      <th>Segment</th>\n    </tr>\n    <tr>\n      <th>CustomerID</th>\n      <th></th>\n      <th></th>\n      <th></th>\n      <th></th>\n      <th></th>\n      <th></th>\n      <th></th>\n    </tr>\n  </thead>\n  <tbody>\n    <tr>\n      <th>12747.0</th>\n      <td>10.0</td>\n      <td>367.0</td>\n      <td>369.0</td>\n      <td>375.725000</td>\n      <td>4.632775</td>\n      <td>1712.381633</td>\n      <td>Champions</td>\n    </tr>\n    <tr>\n      <th>12748.0</th>\n      <td>112.0</td>\n      <td>373.0</td>\n      <td>373.0</td>\n      <td>257.314911</td>\n      <td>42.444401</td>\n      <td>10566.853327</td>\n      <td>Champions</td>\n    </tr>\n    <tr>\n      <th>12749.0</th>\n      <td>3.0</td>\n      <td>210.0</td>\n      <td>213.0</td>\n      <td>999.106667</td>\n      <td>2.979965</td>\n      <td>3054.158128</td>\n      <td>Champions</td>\n    </tr>\n    <tr>\n      <th>12820.0</th>\n      <td>3.0</td>\n      <td>323.0</td>\n      <td>326.0</td>\n      <td>256.573333</td>\n      <td>2.211293</td>\n      <td>584.100407</td>\n      <td>Need Attention</td>\n    </tr>\n    <tr>\n      <th>12823.0</th>\n      <td>4.0</td>\n      <td>222.0</td>\n      <td>296.0</td>\n      <td>252.450000</td>\n      <td>2.814953</td>\n      <td>719.842220</td>\n      <td>Need Attention</td>\n    </tr>\n    <tr>\n      <th>...</th>\n      <td>...</td>\n      <td>...</td>\n      <td>...</td>\n      <td>...</td>\n      <td>...</td>\n      <td>...</td>\n      <td>...</td>\n    </tr>\n    <tr>\n      <th>18263.0</th>\n      <td>2.0</td>\n      <td>227.0</td>\n      <td>252.0</td>\n      <td>467.580000</td>\n      <td>2.166345</td>\n      <td>1074.547597</td>\n      <td>LoyalCustomers</td>\n    </tr>\n    <tr>\n      <th>18272.0</th>\n      <td>5.0</td>\n      <td>244.0</td>\n      <td>246.0</td>\n      <td>485.688000</td>\n      <td>3.710709</td>\n      <td>1805.476473</td>\n      <td>Champions</td>\n    </tr>\n    <tr>\n      <th>18273.0</th>\n      <td>2.0</td>\n      <td>255.0</td>\n      <td>257.0</td>\n      <td>71.400000</td>\n      <td>2.136996</td>\n      <td>165.434190</td>\n      <td>Hibernating</td>\n    </tr>\n    <tr>\n      <th>18283.0</th>\n      <td>13.0</td>\n      <td>334.0</td>\n      <td>337.0</td>\n      <td>152.436154</td>\n      <td>6.165368</td>\n      <td>921.670085</td>\n      <td>Need Attention</td>\n    </tr>\n    <tr>\n      <th>18287.0</th>\n      <td>2.0</td>\n      <td>159.0</td>\n      <td>201.0</td>\n      <td>493.940000</td>\n      <td>2.519243</td>\n      <td>1319.757760</td>\n      <td>LoyalCustomers</td>\n    </tr>\n  </tbody>\n</table>\n<p>1738 rows × 7 columns</p>\n</div>"
     },
     "execution_count": 90,
     "metadata": {},
     "output_type": "execute_result"
    }
   ],
   "source": [
    "rfm_dataset['Segment'] = pd.qcut(rfm_dataset['6_months_clv'],4,labels = ['Hibernating','Need Attention',                                                      'LoyalCustomers', 'Champions'])\n",
    "rfm_dataset"
   ],
   "metadata": {
    "collapsed": false,
    "pycharm": {
     "name": "#%%\n"
    }
   }
  },
  {
   "cell_type": "markdown",
   "source": [
    "From our segmentation into 4 separate groups, we can identify groups of customers who require more attention, specific products and create marketing plan to address each group in a particular way."
   ],
   "metadata": {
    "collapsed": false,
    "pycharm": {
     "name": "#%% md\n"
    }
   }
  }
 ],
 "metadata": {
  "kernelspec": {
   "display_name": "Python 3",
   "language": "python",
   "name": "python3"
  },
  "language_info": {
   "codemirror_mode": {
    "name": "ipython",
    "version": 2
   },
   "file_extension": ".py",
   "mimetype": "text/x-python",
   "name": "python",
   "nbconvert_exporter": "python",
   "pygments_lexer": "ipython2",
   "version": "2.7.6"
  }
 },
 "nbformat": 4,
 "nbformat_minor": 0
}